{
  "nbformat": 4,
  "nbformat_minor": 0,
  "metadata": {
    "colab": {
      "name": "file_management_in_python.ipynb",
      "provenance": [],
      "authorship_tag": "ABX9TyMoTr3Gs6Lu9tHOcqPieT84",
      "include_colab_link": true
    },
    "kernelspec": {
      "name": "python3",
      "display_name": "Python 3"
    }
  },
  "cells": [
    {
      "cell_type": "markdown",
      "metadata": {
        "id": "view-in-github",
        "colab_type": "text"
      },
      "source": [
        "<a href=\"https://colab.research.google.com/github/JoshuaOluoch/file-management-in-python/blob/main/file_management_in_python.ipynb\" target=\"_parent\"><img src=\"https://colab.research.google.com/assets/colab-badge.svg\" alt=\"Open In Colab\"/></a>"
      ]
    },
    {
      "cell_type": "markdown",
      "metadata": {
        "id": "IogJm0VBKQv6"
      },
      "source": [
        "# File Management in Python"
      ]
    },
    {
      "cell_type": "code",
      "metadata": {
        "id": "JMKuQpquUEwg",
        "colab": {
          "base_uri": "https://localhost:8080/",
          "height": 35
        },
        "outputId": "aa07acca-019e-4d15-d77a-130ff9540eb2"
      },
      "source": [
        "#Import the os library\r\n",
        "import os\r\n",
        "os.name"
      ],
      "execution_count": 1,
      "outputs": [
        {
          "output_type": "execute_result",
          "data": {
            "application/vnd.google.colaboratory.intrinsic+json": {
              "type": "string"
            },
            "text/plain": [
              "'posix'"
            ]
          },
          "metadata": {
            "tags": []
          },
          "execution_count": 1
        }
      ]
    },
    {
      "cell_type": "code",
      "metadata": {
        "colab": {
          "base_uri": "https://localhost:8080/",
          "height": 35
        },
        "id": "cRx6TtBqKCG-",
        "outputId": "c4e2a59e-0caa-4dc1-d336-65caa5ff11e2"
      },
      "source": [
        "#Working Directory\r\n",
        "#1. Getting working directory\r\n",
        "os.getcwd()"
      ],
      "execution_count": 2,
      "outputs": [
        {
          "output_type": "execute_result",
          "data": {
            "application/vnd.google.colaboratory.intrinsic+json": {
              "type": "string"
            },
            "text/plain": [
              "'/content'"
            ]
          },
          "metadata": {
            "tags": []
          },
          "execution_count": 2
        }
      ]
    },
    {
      "cell_type": "code",
      "metadata": {
        "id": "b87PrW4HKoTy"
      },
      "source": [
        "#2. Setting working directory\r\n",
        "#os.chdir(path) "
      ],
      "execution_count": null,
      "outputs": []
    },
    {
      "cell_type": "code",
      "metadata": {
        "colab": {
          "base_uri": "https://localhost:8080/"
        },
        "id": "8Lrjkww5LdVN",
        "outputId": "6834ac04-824f-40d2-b732-d1dbb95c9297"
      },
      "source": [
        "#Getting list of directories and files\r\n",
        "dir_list = os.listdir()  \r\n",
        "print(\"List of directories and files before creation:\") \r\n",
        "print(dir_list) \r\n",
        "print() "
      ],
      "execution_count": 4,
      "outputs": [
        {
          "output_type": "stream",
          "text": [
            "List of directories and files before creation:\n",
            "['.config', 'sample_data']\n",
            "\n"
          ],
          "name": "stdout"
        }
      ]
    },
    {
      "cell_type": "code",
      "metadata": {
        "colab": {
          "base_uri": "https://localhost:8080/"
        },
        "id": "AV1sBEcrL8Hd",
        "outputId": "8f8c9e76-05b0-464e-deee-63a145ef6534"
      },
      "source": [
        "# Creates a new file \r\n",
        "with open('file.txt', 'w') as fp: \r\n",
        "    pass \r\n",
        "  \r\n",
        "# After creating  \r\n",
        "dir_list = os.listdir() \r\n",
        "print(\"List of directories and files after creation:\") \r\n",
        "print(dir_list) "
      ],
      "execution_count": 5,
      "outputs": [
        {
          "output_type": "stream",
          "text": [
            "List of directories and files after creation:\n",
            "['.config', 'file.txt', 'sample_data']\n"
          ],
          "name": "stdout"
        }
      ]
    },
    {
      "cell_type": "code",
      "metadata": {
        "id": "e0JIwutMNVe6"
      },
      "source": [
        "#Write data into a file\r\n",
        "f = open(\"file.txt\",\"w+\")\r\n",
        "\r\n",
        "for i in range(5):\r\n",
        "  f.write(str(i+1) + \"\\n\")\r\n",
        "f.close()"
      ],
      "execution_count": 9,
      "outputs": []
    },
    {
      "cell_type": "code",
      "metadata": {
        "colab": {
          "base_uri": "https://localhost:8080/"
        },
        "id": "OYiGv3XxPOrf",
        "outputId": "a4394ed2-a336-42f8-ca10-028be0695718"
      },
      "source": [
        "#Reading a file in python and getting its contents\r\n",
        "f = open(\"file.txt\",\"r\")\r\n",
        "\r\n",
        "if f.mode == \"r\":\r\n",
        "  contents = f.read()\r\n",
        "  print(contents)\r\n",
        "f.close() "
      ],
      "execution_count": 12,
      "outputs": [
        {
          "output_type": "stream",
          "text": [
            "1\n",
            "2\n",
            "3\n",
            "4\n",
            "5\n",
            "\n"
          ],
          "name": "stdout"
        }
      ]
    }
  ]
}